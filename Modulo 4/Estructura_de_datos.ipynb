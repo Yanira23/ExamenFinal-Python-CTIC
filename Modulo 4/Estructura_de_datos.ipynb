{
  "nbformat": 4,
  "nbformat_minor": 0,
  "metadata": {
    "colab": {
      "provenance": [],
      "authorship_tag": "ABX9TyOfyokIFqU92jUKtelv+fe4",
      "include_colab_link": true
    },
    "kernelspec": {
      "name": "python3",
      "display_name": "Python 3"
    },
    "language_info": {
      "name": "python"
    }
  },
  "cells": [
    {
      "cell_type": "markdown",
      "metadata": {
        "id": "view-in-github",
        "colab_type": "text"
      },
      "source": [
        "<a href=\"https://colab.research.google.com/github/Yanira23/ExamenFinal-Python-CTIC/blob/main/Modulo%204/Estructura_de_datos.ipynb\" target=\"_parent\"><img src=\"https://colab.research.google.com/assets/colab-badge.svg\" alt=\"Open In Colab\"/></a>"
      ]
    },
    {
      "cell_type": "markdown",
      "source": [
        "###Trabajando con Listas numéricas"
      ],
      "metadata": {
        "id": "zxPynZHBF5Nk"
      }
    },
    {
      "cell_type": "markdown",
      "source": [
        "<b> Ejercicio 1</b>\n",
        "\n",
        "use un bucle **for** para imprimir los números del 1 al 20, inclusive."
      ],
      "metadata": {
        "id": "0oigTUQSF8Te"
      }
    },
    {
      "cell_type": "code",
      "source": [
        "for value in range(1,21):\n",
        "    print(value)"
      ],
      "metadata": {
        "id": "zUupy1muGDho"
      },
      "execution_count": null,
      "outputs": []
    },
    {
      "cell_type": "markdown",
      "source": [
        "\n",
        "<b> Ejercicio 2</b>\n",
        "\n",
        "Haga una lista de los números del uno al millón y luego use un ciclo for para imprimir los números. (Si la salida tarda demasiado, deténgala presionando CTRL-C o cerrando la ventana de salida)."
      ],
      "metadata": {
        "id": "LCgecN02GEP-"
      }
    },
    {
      "cell_type": "code",
      "source": [
        "for value in range(1,1000001):\n",
        "    print(value)"
      ],
      "metadata": {
        "id": "4GCPpuqxQMT6"
      },
      "execution_count": null,
      "outputs": []
    },
    {
      "cell_type": "markdown",
      "source": [
        "<b> Ejercicio 3</b>\n",
        "\n",
        "Haga una lista de los números del uno al millón y luego use min() y max() para asegurarse de que su lista realmente comience en uno y termine en un millón. Además, use la función sum() para ver qué tan rápido Python puede agregar un millón de números."
      ],
      "metadata": {
        "id": "zQCgMTDvGHrJ"
      }
    },
    {
      "cell_type": "code",
      "source": [
        "my_list = list(range(1, 1000001))\n",
        "\n",
        "print(min(my_list))\n",
        "print(max(my_list))\n",
        "\n",
        "start = time.time()\n",
        "sum(my_list)\n",
        "elapsed = time.time() - start\n",
        "print(f'process elapsed {elapsed} seconds')"
      ],
      "metadata": {
        "id": "_1fHslw4GLpb"
      },
      "execution_count": null,
      "outputs": []
    },
    {
      "cell_type": "markdown",
      "source": [
        "<b> Ejercicio 4</b>\n",
        "\n",
        "Use el tercer argumento de la función range() para hacer una lista de los números impares del 1 al 20. Use un bucle for para imprimir cada número. "
      ],
      "metadata": {
        "id": "y3t8uyunGPTV"
      }
    },
    {
      "cell_type": "code",
      "source": [
        "for x in range(1,20,2):\n",
        "    print(x)"
      ],
      "metadata": {
        "id": "WWN9_nrAGQOI"
      },
      "execution_count": null,
      "outputs": []
    },
    {
      "cell_type": "markdown",
      "source": [
        "<b> Ejercicio 5</b>\n",
        "\n",
        "Haga una lista de los múltiplos de 3 de 3 a 30. Use un ciclo for para imprimir los números en su lista."
      ],
      "metadata": {
        "id": "G-byZ5dNGQ5e"
      }
    },
    {
      "cell_type": "code",
      "source": [
        "for x in range(3,30): \n",
        "    if x % 3 == 0:\n",
        "      print(x)"
      ],
      "metadata": {
        "id": "ANWp4s_AGT66"
      },
      "execution_count": null,
      "outputs": []
    },
    {
      "cell_type": "markdown",
      "source": [
        "<b> Ejercicio 6</b>\n",
        "\n",
        "Haga una lista de los primeros 10 cubos (es decir, el cubo de cada número entero del 1 al 10) y use un ciclo for para imprimir el valor de cada cubo."
      ],
      "metadata": {
        "id": "rhePW-HpGaN3"
      }
    },
    {
      "cell_type": "code",
      "source": [
        "squares = []\n",
        "\n",
        "for value in range(1, 10):\n",
        "    square = value ** 3\n",
        "    squares.append(square)\n",
        "print(squares)"
      ],
      "metadata": {
        "id": "Ej3KUO_qGe1q"
      },
      "execution_count": null,
      "outputs": []
    },
    {
      "cell_type": "markdown",
      "source": [
        "<b> Ejercicio 7</b>\n",
        "\n",
        "Use una lista de comprensión para generar una lista de los primeros 10 cubos."
      ],
      "metadata": {
        "id": "inAM7caHGfuo"
      }
    },
    {
      "cell_type": "code",
      "source": [
        "squares = [value ** 3 for value in range(1, 10)]\n",
        "print(squares)"
      ],
      "metadata": {
        "id": "sRSxBGObGn7U"
      },
      "execution_count": null,
      "outputs": []
    },
    {
      "cell_type": "markdown",
      "source": [
        "###Trabajando con slices"
      ],
      "metadata": {
        "id": "WujxZbDynQw8"
      }
    },
    {
      "cell_type": "markdown",
      "source": [
        "<b> Ejercicio 1</b>\n",
        "\n",
        "Utilizando alguna lista definida anteriormente:\n",
        "\n",
        "*   Imprima el mensaje **Los tres primeros elementos de la lista son:**. Luego use un slice para imprimir los primeros tres elementos de la lista de ese programa.\n",
        "\n",
        "*   Imprima el mensaje **Tres elementos de la mitad de la lista son:**. Use un slice para imprimir tres elementos del medio de la lista.\n",
        "\n",
        "*   Imprima el mensaje **Los últimos tres elementos de la lista son:**. Utilice un slice para imprimir los últimos tres elementos de la lista."
      ],
      "metadata": {
        "id": "MYehW9ERnURo"
      }
    },
    {
      "cell_type": "code",
      "source": [
        "listas = ['charles', 'martina', 'michael', 'florence', 'eli']\n",
        "\n",
        "print(\"Los tres primeros elementos de la lista son: \")\n",
        "for lista in listas[:3]:\n",
        "    print(lista.title())"
      ],
      "metadata": {
        "id": "LfoeBlisozTe"
      },
      "execution_count": null,
      "outputs": []
    },
    {
      "cell_type": "code",
      "source": [
        "print(\"Tres elementos de la mitad de la lista son: \")\n",
        "for lista in listas[1:4]:\n",
        "    print(lista.title())"
      ],
      "metadata": {
        "id": "Urzat0W_qp5W"
      },
      "execution_count": null,
      "outputs": []
    },
    {
      "cell_type": "code",
      "source": [
        "print(\"Los últimos tres elementos de la lista son: \")\n",
        "for lista in listas[-3:]:\n",
        "    print(lista.title())"
      ],
      "metadata": {
        "id": "48XsxnUqqskx"
      },
      "execution_count": null,
      "outputs": []
    },
    {
      "cell_type": "markdown",
      "source": [
        "<b> Ejercicio 2</b>\n",
        "\n",
        "Haga una copia de la lista de pizzas y llámela friend_pizzas. Luego, haz lo siguiente:\n",
        "\n",
        "* Agregue una nueva pizza a la lista original.\n",
        "* Agrega una pizza diferente a la lista friend_pizzas.\n",
        "* Demuestra que tienes dos listas separadas. Imprima el mensaje Mis pizzas favoritas son: y luego use un bucle for para imprimir la primera lista. Imprima el mensaje Las pizzas favoritas de mi amigo son: y luego use un bucle for para imprimir la segunda lista. Asegúrese de que cada pizza nueva se almacene en la lista adecuada."
      ],
      "metadata": {
        "id": "Nw6sqFQJq2mL"
      }
    },
    {
      "cell_type": "code",
      "source": [
        "my_foods = ['americana', 'pepperoni', 'hawaiana']\n",
        "friend_pizzas = my_foods[:]\n",
        "\n",
        "my_foods.append('mozzarella')\n",
        "print(my_foods)\n",
        "\n",
        "friend_pizzas.append('napolitana')\n",
        "print(friend_pizzas)\n"
      ],
      "metadata": {
        "id": "_KisOvw2r6MA"
      },
      "execution_count": null,
      "outputs": []
    },
    {
      "cell_type": "code",
      "source": [
        "\"\"\"Para imprimir mis pizzas favoritas\"\"\"\n",
        "\n",
        "print(\"Mis pizzas favoritas son: \")\n",
        "for mine in my_foods[:]:\n",
        "    print(mine)"
      ],
      "metadata": {
        "id": "Q_gy40CO0vgi"
      },
      "execution_count": null,
      "outputs": []
    },
    {
      "cell_type": "code",
      "source": [
        "\"\"\"Para imprimir las pizzas favoritas de mi amigo\"\"\"\n",
        "print(\"Las pizzas favoritas de mi amigo son: \")\n",
        "for amigo in friend_pizzas[:]:\n",
        "    print(amigo)"
      ],
      "metadata": {
        "id": "kpqCckuq1Gd1"
      },
      "execution_count": null,
      "outputs": []
    },
    {
      "cell_type": "markdown",
      "source": [
        "###Tuplas"
      ],
      "metadata": {
        "id": "0eOL19ae1mZ8"
      }
    },
    {
      "cell_type": "markdown",
      "source": [
        "<b> Ejercicio 1</b>\n",
        "\n",
        "Un restaurante estilo buffet ofrece solo cinco alimentos básicos. Piense en cinco alimentos simples y guárdelos en una tupla.\n",
        "\n",
        "* Use un bucle for para imprimir cada comida que ofrece el restaurante.\n",
        "Intente modificar uno de los elementos y asegúrese de que Python rechace el cambio.\n",
        "* El restaurante cambia su menú, reemplazando dos de los artículos con comidas diferentes. Agregue una línea que reescriba la tupla y luego use un ciclo for para imprimir cada uno de los elementos en el menú revisado."
      ],
      "metadata": {
        "id": "m9kg5gzG1pyK"
      }
    },
    {
      "cell_type": "code",
      "source": [
        "my_menu = ('Chaufa', 'Ceviche', 'Aji de gallina', 'Carapulcra', ' Parrilla')\n",
        "type(my_menu)"
      ],
      "metadata": {
        "id": "h6nofE-A10V4"
      },
      "execution_count": null,
      "outputs": []
    },
    {
      "cell_type": "code",
      "source": [
        "for x in my_menu:\n",
        "  print(f'uno de nuestros platillos es: {x}')"
      ],
      "metadata": {
        "id": "_42h-pLAOPwd"
      },
      "execution_count": null,
      "outputs": []
    },
    {
      "cell_type": "code",
      "source": [
        "my_menu = ('Aeropuerto', 'Ceviche', 'Aji de gallina', 'Carapulcra', 'Estofado')\n",
        "for x in my_menu:\n",
        "  print(f'uno de nuestros platillos es: {x}')"
      ],
      "metadata": {
        "id": "752GkqzFQmpV"
      },
      "execution_count": null,
      "outputs": []
    },
    {
      "cell_type": "markdown",
      "source": [
        "###Diccionarios"
      ],
      "metadata": {
        "id": "aEm4ftpMQ-oe"
      }
    },
    {
      "cell_type": "markdown",
      "source": [
        "<b> Ejercicio 1</b>\n",
        "\n",
        "Usa un diccionario para almacenar información sobre una persona que conoces. Almacene su nombre, apellido, edad y la ciudad en la que vive. Debe tener claves como nombre, apellido, edad y ciudad. Imprima cada parte de información almacenada en su diccionario."
      ],
      "metadata": {
        "id": "jpZShS_NREzJ"
      }
    },
    {
      "cell_type": "code",
      "source": [
        "nombre = input('¿Cuál es tu nombre?: ')\n",
        "apellido = input('¿Cuál es tu apellido?: ')\n",
        "edad = input('¿Cuántos años tienes?: ')\n",
        "ciudad = input('¿En qué ciudad vives?: ')\n",
        "persona = {'nombre': nombre, 'apellido': apellido, 'edad': edad, 'ciudad': ciudad}\n",
        "print(persona['nombre'], persona['apellido'], 'tiene', persona['edad'], 'años y vive en', persona['ciudad'])"
      ],
      "metadata": {
        "id": "9Hmkjvg3RMWP"
      },
      "execution_count": null,
      "outputs": []
    },
    {
      "cell_type": "markdown",
      "source": [
        "<b> Ejercicio 2</b>\n",
        "\n",
        "Use un diccionario para almacenar los números favoritos de las personas. Piensa en cinco nombres y utilízalos como llaves en tu diccionario. Piense en un número favorito para cada persona y guárdelo como un valor en su diccionario. Escriba el nombre de cada persona y su número favorito. "
      ],
      "metadata": {
        "id": "4e1VQ9A1RMxv"
      }
    },
    {
      "cell_type": "code",
      "source": [
        "personas = {'persona 1': 'Mariana', 'persona 2': 'Jack', 'persona 3': 'Yanira', 'persona 4': 'Milagros','persona 5': 'Guillermo'}\n",
        "\n",
        "print(f\"La persona es {personas['persona 1']}\")\n",
        "personas['persona 1'] = 4\n",
        "print(f\"Su número favorito es {personas['persona 1']}\")"
      ],
      "metadata": {
        "id": "XfaAwD06sgv6"
      },
      "execution_count": null,
      "outputs": []
    },
    {
      "cell_type": "code",
      "source": [
        "print(f\"La persona es {personas['persona 2']}\")\n",
        "personas['persona 2'] = 12\n",
        "print(f\"Su número favorito es {personas['persona 2']}\")"
      ],
      "metadata": {
        "id": "h6utR5z6xXhI"
      },
      "execution_count": null,
      "outputs": []
    },
    {
      "cell_type": "code",
      "source": [
        "print(f\"La persona es {personas['persona 3']}\")\n",
        "personas['persona 3'] = 2\n",
        "print(f\"Su número favorito es {personas['persona 3']}\")"
      ],
      "metadata": {
        "id": "-brpjKqYxdNJ"
      },
      "execution_count": null,
      "outputs": []
    },
    {
      "cell_type": "code",
      "source": [
        "print(f\"La persona es {personas['persona 4']}\")\n",
        "personas['persona 4'] = 15\n",
        "print(f\"Su número favorito es {personas['persona 4']}\")"
      ],
      "metadata": {
        "id": "eghJVbASxeDF"
      },
      "execution_count": null,
      "outputs": []
    },
    {
      "cell_type": "code",
      "source": [
        "print(f\"La persona es {personas['persona 5']}\")\n",
        "personas['persona 5'] = 7\n",
        "print(f\"Su número favorito es {personas['persona 5']}\")"
      ],
      "metadata": {
        "id": "v3eta6y_xe7Y"
      },
      "execution_count": null,
      "outputs": []
    },
    {
      "cell_type": "markdown",
      "source": [
        "<b> Ejercicio 3</b>\n",
        "\n",
        "Piense en cinco palabras de programación que haya aprendido. Utilice estas palabras como llaves en su glosario y almacene sus significados como valores.\n",
        "\n",
        "Imprima cada palabra y su significado como una salida con un formato ordenado. Puede imprimir la palabra seguida de dos puntos y luego su significado, o imprimir la palabra en una línea y luego imprimir su significado con sangría en una segunda línea. Utilice el carácter de nueva línea (\\n) para insertar una línea en blanco entre cada par de palabra y significado en su salida."
      ],
      "metadata": {
        "id": "KLuSLqkoRQaD"
      }
    },
    {
      "cell_type": "code",
      "source": [
        "programación = {'int':'entero', 'for':'para', 'while':'mientras', 'private':'privado', 'print':'imprimir'}\n",
        "for key, value in programación.items():\n",
        "    print(f\"\\n{key}: {value}\")"
      ],
      "metadata": {
        "id": "5YrQXSaqRUsl"
      },
      "execution_count": null,
      "outputs": []
    },
    {
      "cell_type": "markdown",
      "source": [
        "### Loops con diccionarios"
      ],
      "metadata": {
        "id": "mTdJqBrxy_Nn"
      }
    },
    {
      "cell_type": "markdown",
      "source": [
        "<b> Ejercicio 1</b>\n",
        "\n",
        "Haga un diccionario que contenga tres ríos principales y el país por el que pasa cada río. Un par clave-valor podría ser 'nilo': 'egipto'.\n",
        "\n",
        "* Use un bucle para imprimir una oración sobre cada río, como El Nilo atraviesa Egipto.\n",
        "* Utilice un bucle para imprimir el nombre de cada río incluido en el diccionario.\n",
        "* Use un bucle para imprimir el nombre de cada país incluido en el diccionario."
      ],
      "metadata": {
        "id": "hXVZDIx9zGJW"
      }
    },
    {
      "cell_type": "code",
      "source": [
        "\"\"\"Use un bucle para imprimir una oración sobre cada río, como El Nilo \n",
        "   atraviesa Egipto\"\"\"\n",
        "rios = {'Nilo': 'Egipto', 'Rimac': 'Perú', 'Misisipi': 'Estado Unidos'}\n",
        "for key, value in rios.items():\n",
        "    print(f\"El {key} atraviesa {value}\")"
      ],
      "metadata": {
        "id": "OTBMxvtFzHGY"
      },
      "execution_count": null,
      "outputs": []
    },
    {
      "cell_type": "code",
      "source": [
        "\"\"\"Utilice un bucle para imprimir el nombre de cada río incluido en el \n",
        "   diccionario\"\"\"\n",
        "for key, value in rios.items():\n",
        "    print(key)"
      ],
      "metadata": {
        "id": "nDgflQRW60gN"
      },
      "execution_count": null,
      "outputs": []
    },
    {
      "cell_type": "code",
      "source": [
        "\"\"\"Use un bucle para imprimir el nombre de cada país incluido en el \n",
        "   diccionario.\"\"\"\n",
        "for key, value in rios.items():\n",
        "    print(value)"
      ],
      "metadata": {
        "id": "QCBk9akz7X5i"
      },
      "execution_count": null,
      "outputs": []
    },
    {
      "cell_type": "markdown",
      "source": [
        "### Una lista en un diccionario"
      ],
      "metadata": {
        "id": "WFgCmSYw_kA6"
      }
    },
    {
      "cell_type": "markdown",
      "source": [
        "<b> Ejercicio 1</b>\n",
        "\n",
        "Cree tres nuevos diccionarios que representen a diferentes personas y almacene los tres diccionarios en una lista llamada personas. Recorra su lista de personas. Mientras recorre la lista, imprima todo lo que sabe sobre cada persona."
      ],
      "metadata": {
        "id": "FpCAfFMx_5fS"
      }
    },
    {
      "cell_type": "code",
      "source": [
        "persona_1 = {'solter@':'Maricarmen', 'casad@':'Milagros'}\n",
        "persona_2 = {'solter@':'Fatima', 'casad@':'Ricardo'}\n",
        "persona_3 = {'solter@':'Esteban', 'casad@':'Marcos'}\n",
        "\n",
        "personas = [persona_1, persona_2, persona_3]\n",
        "\n",
        "for estado_civil in personas:\n",
        "    print(estado_civil)"
      ],
      "metadata": {
        "id": "zxHCmE7t_61q"
      },
      "execution_count": null,
      "outputs": []
    },
    {
      "cell_type": "markdown",
      "source": [
        "<b> Ejercicio 2</b>\n",
        "\n",
        "Haga varios diccionarios, donde cada diccionario represente una mascota diferente. En cada diccionario, incluya el tipo de animal y el nombre del dueño. Guarde estos diccionarios en una lista llamada mascotas. A continuación, recorra su lista y, mientras lo hace, imprima todo lo que sepa sobre cada mascota."
      ],
      "metadata": {
        "id": "uaPwqMOQ_77v"
      }
    },
    {
      "cell_type": "code",
      "source": [
        "mascota_1 = {'tipo':'gato', 'dueño':'Micaela'}\n",
        "mascota_2 = {'tipo':'perro', 'dueño':'Stefany'}\n",
        "mascota_3 = {'tipo':'conejo', 'dueño':'José'}\n",
        "mascota_4 = {'tipo':'hamster', 'dueño':'Marta'}\n",
        "\n",
        "mascotas = [mascota_1, mascota_2, mascota_3, mascota_4]\n",
        "\n",
        "for info_mascotas in mascotas:\n",
        "    print(info_mascotas)"
      ],
      "metadata": {
        "id": "atpn8nFZ__Gd"
      },
      "execution_count": null,
      "outputs": []
    },
    {
      "cell_type": "markdown",
      "source": [
        "<b> Ejercicio 3</b>\n",
        "\n",
        "Haga un diccionario llamado lugares_favoritos. Piense en tres nombres para usar como llaves en el diccionario y almacene de uno a tres lugares favoritos para cada persona. Recorre el diccionario e imprime el nombre de cada persona y sus lugares favoritos."
      ],
      "metadata": {
        "id": "NZHaXYMR__5i"
      }
    },
    {
      "cell_type": "code",
      "source": [
        "lugares_favoritos = {'Rafaela':'Cancún',\n",
        "                     'Alvaro':'Miami',\n",
        "                     'Natalia':'Ica'}\n",
        "\n",
        "for name, places in lugares_favoritos.items():\n",
        "    print(f\"\\nEl lugar favorito de {name} es {places}.\")"
      ],
      "metadata": {
        "id": "uzjkEBXgACny"
      },
      "execution_count": null,
      "outputs": []
    },
    {
      "cell_type": "markdown",
      "source": [
        "<b> Ejercicio 4</b>\n",
        "\n",
        "Haz un diccionario llamado ciudades. Usa los nombres de tres ciudades como llaves en tu diccionario. Cree un diccionario de información sobre cada ciudad e incluya el país en el que se encuentra la ciudad, su población aproximada y un dato sobre esa ciudad. Las claves para el diccionario de cada ciudad deben ser algo como país, población y hecho. Imprime el nombre de cada ciudad y toda la información que tengas almacenada sobre ella."
      ],
      "metadata": {
        "id": "pJzAIgKdAKP1"
      }
    },
    {
      "cell_type": "code",
      "source": [
        "ciudades = {'Lima':['Perú', '9 674 755', 'buena comida'],\n",
        "            'Madrid':['España', '3 223 000', 'buena arquitectura'],\n",
        "            'Los Angeles':['Estados Unidos', '3 849 000', ' muchos famosos']}\n",
        "\n",
        "for ciudad, características in ciudades.items():\n",
        "    print(f\"\\nLa ciudad {ciudad} tiene las sgte características: \")\n",
        "    \n",
        "    for característica in características:\n",
        "        print(f\"{característica}\")"
      ],
      "metadata": {
        "id": "iXzPhi1OY8Rm"
      },
      "execution_count": null,
      "outputs": []
    }
  ]
}