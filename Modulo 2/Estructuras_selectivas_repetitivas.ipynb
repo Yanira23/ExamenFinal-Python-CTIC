{
  "nbformat": 4,
  "nbformat_minor": 0,
  "metadata": {
    "colab": {
      "provenance": [],
      "authorship_tag": "ABX9TyN5MJDNhGNoY/ZtZs3dVT8S",
      "include_colab_link": true
    },
    "kernelspec": {
      "name": "python3",
      "display_name": "Python 3"
    },
    "language_info": {
      "name": "python"
    }
  },
  "cells": [
    {
      "cell_type": "markdown",
      "metadata": {
        "id": "view-in-github",
        "colab_type": "text"
      },
      "source": [
        "<a href=\"https://colab.research.google.com/github/Yanira23/ExamenFinal-Python-CTIC/blob/main/Modulo%202/Estructuras_selectivas_repetitivas.ipynb\" target=\"_parent\"><img src=\"https://colab.research.google.com/assets/colab-badge.svg\" alt=\"Open In Colab\"/></a>"
      ]
    },
    {
      "cell_type": "markdown",
      "source": [
        "### Sentencias IF\n"
      ],
      "metadata": {
        "id": "MZpYUY_XlKel"
      }
    },
    {
      "cell_type": "markdown",
      "source": [
        "<b> Ejercicio 1</b>\n",
        "\n",
        "Imagina que un extraterrestre acaba de ser derribado en un juego. Cree una variable llamada alien_color y asígnele un valor de 'verde', 'amarillo' o 'rojo'.\n",
        "\n",
        "Escribe una declaración if para probar si el color del extraterrestre es verde. Si es así, imprime un mensaje de que el jugador acaba de ganar 5 puntos."
      ],
      "metadata": {
        "id": "Zj1ka_oGlWoJ"
      }
    },
    {
      "cell_type": "code",
      "source": [
        "alien_color = input('Ingresar el color del alien: ')\n",
        "if alien_color.lower() == 'verde':\n",
        "  print('El jugador acaba de ganar 5 puntos!')"
      ],
      "metadata": {
        "id": "qqVidbXplaok"
      },
      "execution_count": null,
      "outputs": []
    },
    {
      "cell_type": "markdown",
      "source": [
        "<b> Ejercicio 2</b>\n",
        "\n",
        "Elija un color para un extraterrestre como lo hizo en el Ejercicio anterior y escriba una cadena if-else.\n",
        "\n",
        "Si el alienígena es verde, imprime un mensaje de que el jugador obtuvo 5 puntos.\n",
        "Si el alienígena es amarillo, imprime un mensaje de que el jugador obtuvo 10 puntos.\n",
        "Si el alienígena es rojo, imprime un mensaje de que el jugador obtuvo 15 puntos."
      ],
      "metadata": {
        "id": "VVG9ZRt_nK29"
      }
    },
    {
      "cell_type": "code",
      "source": [
        "alien_color = input('Ingresar el color del alien: ')\n",
        "if alien_color.lower() == 'verde':\n",
        "  print('El jugador acaba de ganar 5 puntos!')\n",
        "elif alien_color.lower() == 'amarillo':\n",
        "  print('El jugador acaba de ganar 10 puntos!')\n",
        "elif alien_color.lower() == 'rojo':\n",
        "  print('El jugador acaba de ganar 15 puntos!')"
      ],
      "metadata": {
        "id": "WafbCIJcndmh"
      },
      "execution_count": null,
      "outputs": []
    },
    {
      "cell_type": "markdown",
      "source": [
        "<b> Ejercicio 3</b>\n",
        "\n",
        "Escriba un ciclo que solicite al usuario que ingrese una serie de ingredientes para la pizza hasta que ingrese un valor de 'salir'. A medida que ingresen cada ingrediente, imprima un mensaje que diga que agregará ese ingrediente a su pizza."
      ],
      "metadata": {
        "id": "fdgvXZr1pvcR"
      }
    },
    {
      "cell_type": "code",
      "source": [
        "prompt = \"\\nIngrese los ingredientes para su pizza:\"\n",
        "prompt += \"\\nEscribe 'salir' para finalizar. \"\n",
        "message = \"\"\n",
        "while message != 'salir':\n",
        "  message = input(prompt)\n",
        "  print(f\"El ingrediente que se agrega es {message}\")"
      ],
      "metadata": {
        "id": "w91F9Uy57Nas"
      },
      "execution_count": null,
      "outputs": []
    },
    {
      "cell_type": "markdown",
      "source": [
        "### Sentencias While"
      ],
      "metadata": {
        "id": "A-5Fhy7iXwI0"
      }
    },
    {
      "cell_type": "markdown",
      "source": [
        "<b> Ejercicio 4</b>\n",
        "\n",
        "Un cine cobra diferentes precios de boletos dependiendo de la edad de una persona. Si una persona es menor de 3 años, la entrada es gratuita; si son entre 3 y 12, el boleto cuesta s/. 10; y si son mayores de 12 años, el boleto cuesta s/. 15. Escriba un ciclo en el que pregunte a los usuarios su edad y luego dígales el costo de su boleto de cine."
      ],
      "metadata": {
        "id": "eNrD5pzkGVzp"
      }
    },
    {
      "cell_type": "code",
      "source": [
        "a=0\n",
        "a+=1\n",
        "while 0<a:\n",
        "  numero=input(\"¿Qué edad tienes?: \")\n",
        "  if a < 3:\n",
        "    print(\"la entrada es gratis\")\n",
        "  elif 3<=a & a<=12:\n",
        "    print(\"el boleto cuesta 10 soles\")\n",
        "  elif 12<a:\n",
        "    print(\"el boleto cuesta 15 soles\")\n",
        "  a = 0"
      ],
      "metadata": {
        "id": "7vbC15j3HuWU"
      },
      "execution_count": null,
      "outputs": []
    },
    {
      "cell_type": "markdown",
      "source": [
        "###Sentencia For"
      ],
      "metadata": {
        "id": "COQuK3-G8PyJ"
      }
    },
    {
      "cell_type": "markdown",
      "source": [
        "<b> Ejercicio 5</b>\n",
        "\n",
        "\n",
        "Piensa en al menos tres tipos de tu pizza favorita. Almacene estos nombres de pizza en una lista y luego use un ciclo for para imprimir el nombre de cada pizza.\n",
        "\n",
        "Modifique su ciclo for para imprimir una oración usando el nombre de la pizza en lugar de imprimir solo el nombre de la pizza. Para cada pizza, debe tener una línea de salida que contenga una declaración simple como Me gusta la pizza de pepperoni.\n",
        "Agregue una línea al final de su programa, fuera del bucle for, que indique cuánto le gusta la pizza. El resultado debe constar de tres o más líneas sobre los tipos de pizza que te gustan y luego una oración adicional, como ¡Me encanta la pizza!"
      ],
      "metadata": {
        "id": "H8pkH1L9qjlX"
      }
    },
    {
      "cell_type": "code",
      "source": [
        "pizza = ['americana','pepperoni','hawaiana']\n",
        "for pizza in pizza:\n",
        "  print(f\"pizza {pizza}\")"
      ],
      "metadata": {
        "id": "NNg9_0Hm5xrC"
      },
      "execution_count": null,
      "outputs": []
    },
    {
      "cell_type": "code",
      "source": [
        "pizza = ['americana','pepperoni','hawaiana']\n",
        "for pizza in pizza:\n",
        "  print(f\"Me gusta la pizza {pizza}\")\n",
        "print(\"¡Me encanta la pizza!\")"
      ],
      "metadata": {
        "colab": {
          "base_uri": "https://localhost:8080/"
        },
        "id": "aUo6uYBA7QSW",
        "outputId": "80bf4356-965e-460a-bdc1-955bfa41f24b"
      },
      "execution_count": null,
      "outputs": [
        {
          "output_type": "stream",
          "name": "stdout",
          "text": [
            "Me gusta la pizza americana\n",
            "Me gusta la pizza pepperoni\n",
            "Me gusta la pizza hawaiana\n",
            "¡Me encanta la pizza!\n"
          ]
        }
      ]
    },
    {
      "cell_type": "markdown",
      "source": [
        "<b> Ejercicio 6</b>\n",
        "\n",
        "Piensa en al menos tres animales diferentes que tengan una característica común. Guarde los nombres de estos animales en una lista y luego use un ciclo for para imprimir el nombre de cada animal.\n",
        "\n",
        "Modifique su programa para imprimir una declaración sobre cada animal, como Un perro sería una gran mascota.\n",
        "Agregue una línea al final de su programa indicando lo que estos animales tienen en común. Podría escribir una oración como ¡Cualquiera de estos animales sería una gran mascota!"
      ],
      "metadata": {
        "id": "bRqoBxFb8J6K"
      }
    },
    {
      "cell_type": "code",
      "source": [
        "animales = ['elefante','perro','gato']\n",
        "for animales in animales:\n",
        "  print(animales)"
      ],
      "metadata": {
        "id": "X7KJD68Z9NIp"
      },
      "execution_count": null,
      "outputs": []
    },
    {
      "cell_type": "code",
      "source": [
        "animales = ['elefante','perro','gato']\n",
        "for animales in animales:\n",
        "  print(f\"Un {animales} sería una gran mascota\")\n",
        "print (\"¡Los tres son animales mamíferos!\")"
      ],
      "metadata": {
        "id": "1hw1pb5W91-m"
      },
      "execution_count": null,
      "outputs": []
    }
  ]
}