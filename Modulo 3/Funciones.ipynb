{
  "nbformat": 4,
  "nbformat_minor": 0,
  "metadata": {
    "colab": {
      "provenance": [],
      "authorship_tag": "ABX9TyMYLLXaRmmfN+p9qsaUzgNO",
      "include_colab_link": true
    },
    "kernelspec": {
      "name": "python3",
      "display_name": "Python 3"
    },
    "language_info": {
      "name": "python"
    }
  },
  "cells": [
    {
      "cell_type": "markdown",
      "metadata": {
        "id": "view-in-github",
        "colab_type": "text"
      },
      "source": [
        "<a href=\"https://colab.research.google.com/github/Yanira23/ExamenFinal-Python-CTIC/blob/main/Modulo%203/Funciones.ipynb\" target=\"_parent\"><img src=\"https://colab.research.google.com/assets/colab-badge.svg\" alt=\"Open In Colab\"/></a>"
      ]
    },
    {
      "cell_type": "markdown",
      "source": [
        "###Usando funciones con loops while"
      ],
      "metadata": {
        "id": "9PhTW_RO_nyX"
      }
    },
    {
      "cell_type": "markdown",
      "source": [
        "<b> Ejercicio 1</b>\n",
        "\n",
        "Escriba una función llamada **make_album()** que cree un diccionario que describa un álbum de música. La función debe tomar el nombre de un artista y el título de un álbum, y debe devolver un diccionario que contenga estos dos datos. Utilice la función para crear tres diccionarios que representen diferentes álbumes. Imprima cada valor devuelto para mostrar que los diccionarios están almacenando la información del álbum correctamente.\n",
        "\n",
        "Use <b>None</b> para agregar un parámetro opcional a **make_album()** que le permita almacenar la cantidad de canciones en un álbum. Si la línea de llamada incluye un valor para la cantidad de canciones, agregue ese valor al diccionario del álbum. Realice al menos una nueva llamada de función que incluya la cantidad de canciones en un álbum."
      ],
      "metadata": {
        "id": "TYgzyqt4ASYZ"
      }
    },
    {
      "cell_type": "code",
      "source": [
        "def make_album(artista, titulo, songnumber=''):\n",
        "    \"\"\"Esta función crea tres diccionarios que permitan describir un álbum\n",
        "    de música\"\"\"\n",
        "    album = {'artista': artista,'titulo':titulo}\n",
        "    if songnumber:\n",
        "      album ['songnumber'] = songnumber\n",
        "    return album\n",
        "album = make_album('Nirvana','Love Goes')\n",
        "print(album)\n",
        "album = make_album('Nirvana','Love Goes','Gloria')\n",
        "print(album)"
      ],
      "metadata": {
        "id": "vzm1ZkJTAd3n",
        "colab": {
          "base_uri": "https://localhost:8080/"
        },
        "outputId": "0fd23743-a105-4c98-b610-d3dbdf386638"
      },
      "execution_count": null,
      "outputs": [
        {
          "output_type": "stream",
          "name": "stdout",
          "text": [
            "{'artista': 'Nirvana', 'titulo': 'Love Goes'}\n",
            "{'artista': 'Nirvana', 'titulo': 'Love Goes', 'songnumber': 'Gloria'}\n"
          ]
        }
      ]
    },
    {
      "cell_type": "markdown",
      "source": [
        "<b> Ejercicio 2</b>\n",
        "\n",
        "Comience con su programa del ejercicio anterior. Escriba un ciclo while que permita a los usuarios ingresar el artista y el título de un álbum. Una vez que tenga esa información, llame a **make_album()** con la entrada del usuario e imprima el diccionario que se crea. Asegúrese de incluir un valor de salida en el ciclo while."
      ],
      "metadata": {
        "id": "i6a6_zAVAflS"
      }
    },
    {
      "cell_type": "code",
      "source": [
        "def make_album(artista, titulo, songnumber=''):\n",
        "        \"\"\"Esta función permite ingresar y almacenar datos como: artista, título y número de canción\"\"\"\n",
        "        album = {}\n",
        "        album[artista] = titulo\n",
        "        if songnumber:\n",
        "          album['songnumber'] = songnumber\n",
        "        return album\n",
        "active=True\n",
        "while active:\n",
        "        artista = input(\"Ingrese el artista: \")\n",
        "        titulo = input(\"Ingrese el título: \")\n",
        "        print(make_album(artista,titulo))\n",
        "        repeat = input (\"Desea continuar? \")\n",
        "        if repeat == 'no':\n",
        "          active = False"
      ],
      "metadata": {
        "id": "1L6qOF_rAkFA"
      },
      "execution_count": null,
      "outputs": []
    },
    {
      "cell_type": "markdown",
      "source": [
        "###Usando Listas"
      ],
      "metadata": {
        "id": "32YzbmWlSl_e"
      }
    },
    {
      "cell_type": "markdown",
      "source": [
        "<b> Ejercicio 3</b>\n",
        "\n",
        "Comience con una copia de su programa del Ejercicio anterior. Escriba una función llamada **send_messages()** que imprima cada mensaje de texto y mueva cada mensaje a una nueva lista llamada sent_messages a medida que se imprime. Después de llamar a la función, imprima ambas listas para asegurarse de que los mensajes se movieron correctamente."
      ],
      "metadata": {
        "id": "REwLf61oSrti"
      }
    },
    {
      "cell_type": "code",
      "source": [
        "def show_messages(messages):\n",
        "  for message in messages:\n",
        "    print(f'\\n{message}')\n",
        "show_messages(['mensaje 1','mensaje 2','mensaje 3'])"
      ],
      "metadata": {
        "id": "MMf_MCpTSwtN"
      },
      "execution_count": null,
      "outputs": []
    },
    {
      "cell_type": "markdown",
      "source": [
        "###Pasar un número arbitrario de argumentos"
      ],
      "metadata": {
        "id": "YLCsJq9XFBEt"
      }
    },
    {
      "cell_type": "markdown",
      "source": [
        "<b> Ejercicio 4</b>\n",
        "\n",
        "Comience con una copia de **user_profile** de ***Uso de argumentos de palabras clave arbitrarias***. Cree un perfil de usted mismo llamando a **build_profile()**, usando su nombre y apellido y otros tres pares clave-valor que lo describan."
      ],
      "metadata": {
        "id": "-4c5nBA2FX17"
      }
    },
    {
      "cell_type": "code",
      "source": [
        "def build_profile(first, last, **user_info):\n",
        "    \"\"\"Función para construir un diccionario que contenga \n",
        "    información sobre uno mismo.\"\"\"\n",
        "    user_info['first_name'] = first\n",
        "    user_info['last_name'] = last\n",
        "    return user_info\n",
        "\n",
        "user_profile = build_profile('Yanira', 'Colonio', \n",
        "                             location = 'Lima-Perú',\n",
        "                             age = 19,\n",
        "                             field = 'ingeniería',\n",
        "                             color = 'verde')\n",
        "print(user_profile)"
      ],
      "metadata": {
        "id": "ulJ6ON6vFkas"
      },
      "execution_count": null,
      "outputs": []
    },
    {
      "cell_type": "markdown",
      "source": [
        "<b> Ejercicio 5</b>\n",
        "\n",
        "Escribe una función que almacene información sobre un automóvil en un diccionario. La función siempre debe recibir un fabricante y un nombre de modelo. Entonces debería aceptar un número arbitrario de argumentos de palabras clave. Llame a la función con la información requerida y otros dos pares de nombre y valor, como un color o una función opcional. Su función debería funcionar para una llamada como esta:\n",
        "\n",
        "coche = **make_car**('subaru', 'outback', color='blue', tow_package=True)\n",
        "\n",
        "Imprima el diccionario que se devuelve para asegurarse de que toda la información se almacenó correctamente."
      ],
      "metadata": {
        "id": "JBP3s-HiLA3j"
      }
    },
    {
      "cell_type": "code",
      "source": [
        "def make_car(fabricante, modelo, **coche_info):\n",
        "    \"\"\"Función para construir un diccionario que contenga \n",
        "    información sobre un automovil.\"\"\"\n",
        "    coche_info['fabricante_nombre'] = fabricante\n",
        "    coche_info['modelo_nombre'] = modelo\n",
        "    return coche_info\n",
        "\n",
        "coche = make_car('subaru', 'outback', color='blue', tow_package=True)\n",
        "print(coche)"
      ],
      "metadata": {
        "id": "d6OJ5xAZNDGs"
      },
      "execution_count": null,
      "outputs": []
    },
    {
      "cell_type": "markdown",
      "source": [
        "###Introducción a Clases"
      ],
      "metadata": {
        "id": "9b_1Zt7LLy3Q"
      }
    },
    {
      "cell_type": "markdown",
      "source": [
        "<b> Ejercicio 6</b>\n",
        "\n",
        "Haz una clase llamada Usuario. Cree dos atributos llamados **first_name** y **last_name**, y luego cree varios otros atributos que normalmente se almacenan en un perfil de usuario. Cree un método llamado **describe_user**() que imprima un resumen de la información del usuario. Cree otro método llamado **greeting_user**() que imprima un saludo personalizado para el usuario.\n",
        "\n",
        "Cree varias instancias que representen a diferentes usuarios y llame a ambos métodos para cada usuario."
      ],
      "metadata": {
        "id": "KTNuhxXZMHKE"
      }
    },
    {
      "cell_type": "code",
      "source": [
        "\"\"\"Se crea la clase Usuario con lso dos atributos\"\"\"\n",
        "class Usuario:\n",
        "  def __init__(self, first_name, last_name, age):\n",
        "    \"\"\"Se inicializa\"\"\"\n",
        "    self.first_name = first_name\n",
        "    self.last_name = last_name\n",
        "    self.age = age\n",
        "\n",
        "  def describe_user(self):\n",
        "      print(f'{self.first_name} {self.last_name}, tiene {self.age} años')\n",
        "    \n",
        "  def greeting_user(self):\n",
        "      print(f'¡Gracias por registrarte {self.first_name}!')"
      ],
      "metadata": {
        "id": "j37xuO4KRph1"
      },
      "execution_count": null,
      "outputs": []
    },
    {
      "cell_type": "code",
      "source": [
        "my_user = Usuario('Gonzalo', 'Sánchez', '20')\n",
        "\n",
        "my_user.describe_user()\n",
        "\n",
        "my_user.greeting_user()"
      ],
      "metadata": {
        "id": "iyna9tVqa3B9",
        "colab": {
          "base_uri": "https://localhost:8080/"
        },
        "outputId": "b61a4399-3efd-4d29-f4ce-c5ec545e4cb9"
      },
      "execution_count": null,
      "outputs": [
        {
          "output_type": "stream",
          "name": "stdout",
          "text": [
            "Gonzalo Sánchez, tiene 20 años\n",
            "¡Gracias por registrarte Gonzalo!\n"
          ]
        }
      ]
    },
    {
      "cell_type": "code",
      "source": [
        "my_user1 = Usuario('Milagros', 'Torres', '47')\n",
        "my_user2 = Usuario('Francisco', 'Gonzales', '12')\n",
        "my_user3 = Usuario('Amelia', 'Lopez', '78')\n",
        "my_user4 = Usuario('Valeria', 'Gutierrez', '13')\n",
        "\n",
        "my_user1.describe_user()\n",
        "my_user1.greeting_user()\n",
        "\n",
        "my_user2.describe_user()\n",
        "my_user2.greeting_user()\n",
        "\n",
        "my_user3.describe_user()\n",
        "my_user3.greeting_user()\n",
        "\n",
        "my_user4.describe_user()\n",
        "my_user4.greeting_user()"
      ],
      "metadata": {
        "id": "W7OcjBS7mCCP",
        "colab": {
          "base_uri": "https://localhost:8080/"
        },
        "outputId": "84e5cdbb-1082-44e4-dba6-b72aa4dd965d"
      },
      "execution_count": null,
      "outputs": [
        {
          "output_type": "stream",
          "name": "stdout",
          "text": [
            "Milagros Torres, tiene 47 años\n",
            "¡Gracias por registrarte Milagros!\n",
            "Francisco Gonzales, tiene 12 años\n",
            "¡Gracias por registrarte Francisco!\n",
            "Amelia Lopez, tiene 78 años\n",
            "¡Gracias por registrarte Amelia!\n",
            "Valeria Gutierrez, tiene 13 años\n",
            "¡Gracias por registrarte Valeria!\n"
          ]
        }
      ]
    }
  ]
}